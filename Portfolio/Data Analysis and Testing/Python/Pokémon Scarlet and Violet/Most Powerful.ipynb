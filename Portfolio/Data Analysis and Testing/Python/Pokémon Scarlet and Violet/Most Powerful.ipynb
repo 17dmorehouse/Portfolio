{
 "cells": [
  {
   "cell_type": "code",
   "execution_count": 1,
   "metadata": {},
   "outputs": [],
   "source": [
    "import pandas as pd\n",
    "from itertools import combinations"
   ]
  },
  {
   "cell_type": "code",
   "execution_count": 2,
   "metadata": {},
   "outputs": [],
   "source": [
    "def rSubset(arr, r):\n",
    "  \n",
    "    # return list of all subsets of length r\n",
    "    # to deal with duplicate subsets use \n",
    "    # set(list(combinations(arr, r)))\n",
    "    return list(combinations(arr, r))"
   ]
  },
  {
   "cell_type": "code",
   "execution_count": 6,
   "metadata": {},
   "outputs": [],
   "source": [
    "Pokemon = pd.read_csv('./Data/gen9_pokemon_stats.csv')\n",
    "# End Game Pokemon/Different Version/ One's I dont want on my team\n",
    "Pokemon = Pokemon[(Pokemon.Pokemon != \"Iron Moth\") & \n",
    "                  (Pokemon.Pokemon != \"Flutter Mane\") & (Pokemon.Pokemon != \"Armarouge\") & \n",
    "                  (Pokemon.Pokemon != \"Iron Jugulis\")& (Pokemon.Pokemon != \"Iron Valiant\") & \n",
    "                  (Pokemon.Pokemon != \"Iron Bundle\") & (Pokemon.Pokemon != \"Sandy Shocks\") & \n",
    "                  (Pokemon.Pokemon != \"Iron Hands\")& (Pokemon.Pokemon != \"Slither Wing\") & \n",
    "                  (Pokemon.Pokemon != \"Palafin\") & (Pokemon.Pokemon != \"Koraidon\") & \n",
    "                  (Pokemon.Pokemon != \"Iron Thorns\") & (Pokemon.Pokemon != \"Quaquaval\") &\n",
    "                  (Pokemon.Pokemon != \"Brute Bonnet\") & (Pokemon.Pokemon != \"Great Tusk\")&\n",
    "                  (Pokemon.Pokemon != \"Roaring Moon\")& (Pokemon.Pokemon != \"Iron Treads\") & \n",
    "                  (Pokemon.Pokemon != \"Scream Tail\")& (Pokemon.Pokemon != \"Meowscarada\")  \n",
    "                 ]\n",
    "\n",
    "Pokemon = Pokemon[(Pokemon.Pokemon != \"Miraidon\")]\n",
    "\n",
    "# Pokemon = Pokemon[(Pokemon.Pokemon != \"Chien-Pao\") & (Pokemon.Pokemon != \"Wo-Chien\")&\n",
    "#                     (Pokemon.Pokemon != \"Ting-Lu\") & (Pokemon.Pokemon != \"Chi-Yu\")\n",
    "#                  ]"
   ]
  },
  {
   "cell_type": "code",
   "execution_count": 7,
   "metadata": {
    "scrolled": true
   },
   "outputs": [],
   "source": [
    "#Pokemon.info()"
   ]
  },
  {
   "cell_type": "code",
   "execution_count": 8,
   "metadata": {},
   "outputs": [
    {
     "data": {
      "text/plain": [
       "{'Electric': ['ground'],\n",
       " 'Normal': ['fighting'],\n",
       " 'Ghost': ['dark'],\n",
       " 'Dragon': ['ice', 'fairy'],\n",
       " 'Fairy': ['poison', 'steel'],\n",
       " 'Bug': ['flying', 'rock', 'fire'],\n",
       " 'Dark': ['bug', 'fighting', 'fairy'],\n",
       " 'Fighting': ['flying', 'psychic', 'fairy'],\n",
       " 'Fire': ['ground', 'rock', 'water'],\n",
       " 'Flying': ['rock', 'electric', 'ice'],\n",
       " 'Grass': ['flying', 'poison', 'bug', 'fire', 'ice'],\n",
       " 'Ground': ['water', 'grass', 'ice'],\n",
       " 'Ice': ['fighting', 'rock', 'steel', 'fire'],\n",
       " 'Poison': ['ground', 'psychic'],\n",
       " 'Psychic': ['bug', 'ghost', 'dark'],\n",
       " 'Rock': ['fighting', 'ground', 'steel', 'water', 'grass'],\n",
       " 'Steel': ['fighting', 'ground', 'fire'],\n",
       " 'Water': ['grass', 'electric']}"
      ]
     },
     "execution_count": 8,
     "metadata": {},
     "output_type": "execute_result"
    }
   ],
   "source": [
    "# Key is defenders weak to \n",
    "Attacker = {\n",
    "            'Electric':['ground'],\n",
    "            'Normal':['fighting'],\n",
    "            'Ghost':['dark'],\n",
    "            'Dragon':['ice', 'fairy'],\n",
    "            'Fairy':['poison', 'steel'],\n",
    "            'Bug':['flying', 'rock','fire'],\n",
    "            'Dark':['bug','fighting', 'fairy'],\n",
    "            'Fighting':['flying', 'psychic', 'fairy'],\n",
    "            'Fire':['ground', 'rock', 'water'],\n",
    "            'Flying':['rock', 'electric', 'ice'],\n",
    "            'Grass':['flying', 'poison', 'bug', 'fire', 'ice'],\n",
    "            'Ground':['water', 'grass', 'ice'],\n",
    "            'Ice':['fighting', 'rock', 'steel', 'fire'],\n",
    "            'Poison': ['ground', 'psychic'],\n",
    "            'Psychic':['bug', 'ghost', 'dark'],\n",
    "            'Rock':['fighting', 'ground', 'steel', 'water', 'grass'],\n",
    "            'Steel':['fighting', 'ground','fire'],\n",
    "            'Water':['grass', 'electric'],\n",
    "           }\n",
    "Attacker"
   ]
  },
  {
   "cell_type": "code",
   "execution_count": 10,
   "metadata": {},
   "outputs": [
    {
     "ename": "SyntaxError",
     "evalue": "invalid syntax (<ipython-input-10-9b74250b9124>, line 4)",
     "output_type": "error",
     "traceback": [
      "\u001b[1;36m  File \u001b[1;32m\"<ipython-input-10-9b74250b9124>\"\u001b[1;36m, line \u001b[1;32m4\u001b[0m\n\u001b[1;33m    Top = Pokemon[Pokemon['Type 1'] == L_Type].\u001b[0m\n\u001b[1;37m                                               ^\u001b[0m\n\u001b[1;31mSyntaxError\u001b[0m\u001b[1;31m:\u001b[0m invalid syntax\n"
     ]
    }
   ],
   "source": [
    "LineUp = []\n",
    "for Type in Attacker:\n",
    "    L_Type = Type.lower()\n",
    "    Top = Pokemon[Pokemon['Type 1'] == L_Type].sort_values('Special Attack', ascending=False)['Pokemon'].head(2).to_numpy()\n",
    "    for names in Top:\n",
    "        if names not in LineUp:\n",
    "            LineUp.append(names)\n",
    "        \n",
    "    Top = Pokemon[Pokemon['Type 1'] == L_Type].sort_values('Attack', ascending=False)['Pokemon'].head(1).to_numpy()\n",
    "    for names in Top:\n",
    "        if names not in LineUp:\n",
    "            LineUp.append(names)\n",
    "            \n",
    "    Top = Pokemon[Pokemon['Type 2'] == L_Type].sort_values('Special Attack', ascending=False)['Pokemon'].head(2).to_numpy()\n",
    "    for names in Top:\n",
    "        if names not in LineUp:\n",
    "            LineUp.append(names)\n",
    "            \n",
    "    Top = Pokemon[Pokemon['Type 2'] == L_Type].sort_values('Attack', ascending=False)['Pokemon'].head(1).to_numpy()\n",
    "    for names in Top:\n",
    "        if names not in LineUp:\n",
    "            LineUp.append(names)\n",
    "        \n",
    "len(LineUp)"
   ]
  },
  {
   "cell_type": "code",
   "execution_count": 7,
   "metadata": {},
   "outputs": [
    {
     "data": {
      "text/plain": [
       "13983816"
      ]
     },
     "execution_count": 7,
     "metadata": {},
     "output_type": "execute_result"
    }
   ],
   "source": [
    "SixLineup = rSubset(LineUp, 6)\n",
    "len(SixLineup)"
   ]
  },
  {
   "cell_type": "code",
   "execution_count": 8,
   "metadata": {},
   "outputs": [],
   "source": [
    "Pokemon_dict = Pokemon.to_dict()"
   ]
  },
  {
   "cell_type": "code",
   "execution_count": 9,
   "metadata": {},
   "outputs": [
    {
     "name": "stdout",
     "output_type": "stream",
     "text": [
      "Electric\n",
      "Normal\n",
      "Ghost\n",
      "Dragon\n",
      "Fairy\n",
      "Bug\n",
      "Dark\n",
      "Fighting\n",
      "Fire\n",
      "Flying\n",
      "Grass\n",
      "Ground\n",
      "Ice\n",
      "Poison\n",
      "Psychic\n",
      "Rock\n",
      "Steel\n",
      "Water\n"
     ]
    },
    {
     "data": {
      "text/plain": [
       "104568"
      ]
     },
     "execution_count": 9,
     "metadata": {},
     "output_type": "execute_result"
    }
   ],
   "source": [
    "Check_List=[]\n",
    "Has_ran = \"No\"\n",
    "for Type in Attacker:\n",
    "    print(Type)\n",
    "    Weakness = 'Weakness-' + str(Type)\n",
    "#     print(Weakness)\n",
    "\n",
    "    if Check_List != [] or Has_ran != \"No\":\n",
    "        SixLineup = Check_List\n",
    "        Check_List=[]\n",
    "        \n",
    "    Has_ran = \"Yes\"\n",
    "\n",
    "    for eachlineup in SixLineup:\n",
    "#         Check = \"No\"\n",
    "        for each in eachlineup:\n",
    "        \n",
    "            num = list(Pokemon_dict['Pokemon'].keys())[list(Pokemon_dict['Pokemon'].values()).index(each)]\n",
    "            if ((Pokemon_dict['Type 1'][num] in Attacker[Type] or Pokemon_dict['Type 2'][num] in Attacker[Type])) and (Pokemon_dict[Weakness][num] <= 1):\n",
    "                #\n",
    "#                 Check = \"Yes\"\n",
    "                Check_List.append(eachlineup)\n",
    "\n",
    "#                 print(Pokemon_dict['Type 1'][num], Pokemon_dict['Type 2'][num],Attacker[Type] )\n",
    "                break\n",
    "#         if Check == \"Yes\":\n",
    "#             continue\n",
    "\n",
    "len(Check_List)"
   ]
  },
  {
   "cell_type": "code",
   "execution_count": 10,
   "metadata": {},
   "outputs": [],
   "source": [
    "Final_Dict={}\n",
    "\n",
    "for count in range(len(Check_List)):\n",
    "    total_sum = 0 \n",
    "    for Type in Attacker:\n",
    "        power = 0\n",
    "        Weakness = 'Weakness-' + str(Type)\n",
    "        for pokemon in Check_List[count]:\n",
    "            num = list(Pokemon_dict['Pokemon'].keys())[list(Pokemon_dict['Pokemon'].values()).index(pokemon)]\n",
    "            if ((Pokemon_dict['Type 1'][num] in Attacker[Type] or Pokemon_dict['Type 2'][num] in Attacker[Type])) and Pokemon_dict[Weakness][num] <= 1:\n",
    "                if power < max(Pokemon_dict['Special Attack'][num], Pokemon_dict['Attack'][num]):\n",
    "                    power = max(Pokemon_dict['Special Attack'][num], Pokemon_dict['Attack'][num])\n",
    "                    price_pokemon = pokemon\n",
    "#         print(Type, power, price_pokemon)\n",
    "        total_sum = total_sum + power\n",
    "    Final_Dict[str(count)]= total_sum       \n",
    "    \n",
    "# Final_Dict[0:4]"
   ]
  },
  {
   "cell_type": "code",
   "execution_count": 18,
   "metadata": {},
   "outputs": [
    {
     "data": {
      "text/plain": [
       "[('86412', 2260),\n",
       " ('87652', 2260),\n",
       " ('28206', 2250),\n",
       " ('91434', 2250),\n",
       " ('86425', 2245)]"
      ]
     },
     "execution_count": 18,
     "metadata": {},
     "output_type": "execute_result"
    }
   ],
   "source": [
    "Final_Dict_1 = sorted(Final_Dict.items(), key=lambda x:x[1], reverse=True)\n",
    "Final_Dict_1[0:5]\n",
    "\n"
   ]
  },
  {
   "cell_type": "code",
   "execution_count": 24,
   "metadata": {},
   "outputs": [
    {
     "name": "stdout",
     "output_type": "stream",
     "text": [
      "('Arboliva', 'Baxcalibur', 'Chien-Pao', 'Kingambit', 'Flamigo', 'Ting-Lu')\n",
      "Electric ['ground']\n",
      "      Ting-Lu 110\n",
      "Normal ['fighting']\n",
      "      Flamigo 115\n",
      "Ghost ['dark']\n",
      "      Kingambit 135\n",
      "Dragon ['ice', 'fairy']\n",
      "      Chien-Pao 120\n",
      "Fairy ['poison', 'steel']\n",
      "      Kingambit 135\n",
      "Bug ['flying', 'rock', 'fire']\n",
      "      Flamigo 115\n",
      "Dark ['bug', 'fighting', 'fairy']\n",
      "      Flamigo 115\n",
      "Fighting ['flying', 'psychic', 'fairy']\n",
      "      Flamigo 115\n",
      "Fire ['ground', 'rock', 'water']\n",
      "      Ting-Lu 110\n",
      "Flying ['rock', 'electric', 'ice']\n",
      "      Baxcalibur 145\n",
      "Grass ['flying', 'poison', 'bug', 'fire', 'ice']\n",
      "      Baxcalibur 145\n",
      "Ground ['water', 'grass', 'ice']\n",
      "      Baxcalibur 145\n",
      "Ice ['fighting', 'rock', 'steel', 'fire']\n",
      "      Kingambit 135\n",
      "Poison ['ground', 'psychic']\n",
      "      Ting-Lu 110\n",
      "Psychic ['bug', 'ghost', 'dark']\n",
      "      Kingambit 135\n",
      "Rock ['fighting', 'ground', 'steel', 'water', 'grass']\n",
      "      Kingambit 135\n",
      "Steel ['fighting', 'ground', 'fire']\n",
      "      Flamigo 115\n",
      "Water ['grass', 'electric']\n",
      "      Arboliva 125\n"
     ]
    }
   ],
   "source": [
    "ID= 86412\n",
    "print(Check_List[ID])\n",
    "\n",
    "for Type in Attacker:\n",
    "    power = 0\n",
    "    price_pokemon = None\n",
    "    Weakness = 'Weakness-' + str(Type)\n",
    "    for pokemon in Check_List[ID]:\n",
    "        num = list(Pokemon_dict['Pokemon'].keys())[list(Pokemon_dict['Pokemon'].values()).index(pokemon)]\n",
    "        if ((Pokemon_dict['Type 1'][num] in Attacker[Type] or Pokemon_dict['Type 2'][num] in Attacker[Type]) and Pokemon_dict[Weakness][num] <= 1) :\n",
    "            if power < max(Pokemon_dict['Special Attack'][num], Pokemon_dict['Attack'][num]):\n",
    "                power = max(Pokemon_dict['Special Attack'][num], Pokemon_dict['Attack'][num])\n",
    "                price_pokemon = pokemon\n",
    "#                 print(Type, pokemon , Pokemon_dict[Weakness][num], Weakness)\n",
    "    print(Type, Attacker[Type])\n",
    "    print(\"     \",price_pokemon, power)\n"
   ]
  }
 ],
 "metadata": {
  "kernelspec": {
   "display_name": "Python 3",
   "language": "python",
   "name": "python3"
  },
  "language_info": {
   "codemirror_mode": {
    "name": "ipython",
    "version": 3
   },
   "file_extension": ".py",
   "mimetype": "text/x-python",
   "name": "python",
   "nbconvert_exporter": "python",
   "pygments_lexer": "ipython3",
   "version": "3.8.5"
  }
 },
 "nbformat": 4,
 "nbformat_minor": 4
}
